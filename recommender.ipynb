{
 "cells": [
  {
   "cell_type": "code",
   "execution_count": null,
   "metadata": {
    "_cell_guid": "b1076dfc-b9ad-4769-8c92-a6c4dae69d19",
    "_uuid": "8f2839f25d086af736a60e9eeb907d3b93b6e0e5",
    "editable": false,
    "execution": {
     "iopub.execute_input": "2022-11-22T03:09:38.655048Z",
     "iopub.status.busy": "2022-11-22T03:09:38.654665Z",
     "iopub.status.idle": "2022-11-22T03:09:38.662342Z",
     "shell.execute_reply": "2022-11-22T03:09:38.660922Z",
     "shell.execute_reply.started": "2022-11-22T03:09:38.655017Z"
    }
   },
   "outputs": [],
   "source": [
    "# This Python 3 environment comes with many helpful analytics libraries installed\n",
    "# It is defined by the kaggle/python Docker image: https://github.com/kaggle/docker-python\n",
    "# For example, here's several helpful packages to load\n",
    "\n",
    "import numpy as np # linear algebra\n",
    "import pandas as pd # data processing, CSV file I/O (e.g. pd.read_csv)\n",
    "\n",
    "# Input data files are available in the read-only \"../input/\" directory\n",
    "# For example, running this (by clicking run or pressing Shift+Enter) will list all files under the input directory\n",
    "\n",
    "import os\n",
    "for dirname, _, filenames in os.walk('/kaggle/mydramalist-complete-dataset'):\n",
    "    for filename in filenames:\n",
    "        print(os.path.join(dirname, filename))\n",
    "\n",
    "# You can write up to 20GB to the current directory (/kaggle/working/) that gets preserved as output when you create a version using \"Save & Run All\" \n",
    "# You can also write temporary files to /kaggle/temp/, but they won't be saved outside of the current session"
   ]
  },
  {
   "cell_type": "code",
   "execution_count": null,
   "metadata": {
    "editable": false,
    "execution": {
     "iopub.execute_input": "2022-11-22T03:09:38.680929Z",
     "iopub.status.busy": "2022-11-22T03:09:38.679865Z",
     "iopub.status.idle": "2022-11-22T03:09:39.023636Z",
     "shell.execute_reply": "2022-11-22T03:09:39.022767Z",
     "shell.execute_reply.started": "2022-11-22T03:09:38.680813Z"
    }
   },
   "outputs": [],
   "source": [
    "df = pd.read_csv(\"../input/mydramalist-complete-dataset/thisIsLast.csv\")\n",
    "df.head()\n",
    "\n",
    "#https://www.kaggle.com/code/shivanirana63/netflix-eda-movie-recommendation-system/notebook"
   ]
  },
  {
   "cell_type": "code",
   "execution_count": 4,
   "metadata": {
    "editable": false,
    "execution": {
     "iopub.execute_input": "2022-11-22T03:09:39.026781Z",
     "iopub.status.busy": "2022-11-22T03:09:39.025985Z",
     "iopub.status.idle": "2022-11-22T03:09:39.060430Z",
     "shell.execute_reply": "2022-11-22T03:09:39.059282Z",
     "shell.execute_reply.started": "2022-11-22T03:09:39.026725Z"
    }
   },
   "outputs": [
    {
     "name": "stdout",
     "output_type": "stream",
     "text": [
      "<class 'pandas.core.frame.DataFrame'>\n",
      "RangeIndex: 9657 entries, 0 to 9656\n",
      "Data columns (total 23 columns):\n",
      " #   Column           Non-Null Count  Dtype  \n",
      "---  ------           --------------  -----  \n",
      " 0   Name             9657 non-null   object \n",
      " 1   category         9657 non-null   object \n",
      " 2   country          9657 non-null   object \n",
      " 3   num_episodes     4823 non-null   float64\n",
      " 4   aired            9657 non-null   object \n",
      " 5   orginal_network  4474 non-null   object \n",
      " 6   duration         9381 non-null   object \n",
      " 7   watchers         9657 non-null   object \n",
      " 8   director         7243 non-null   object \n",
      " 9   screenwriter     4576 non-null   object \n",
      " 10  rating           9657 non-null   object \n",
      " 11  num_raters       9657 non-null   object \n",
      " 12  cast_names       9560 non-null   object \n",
      " 13  genre_names      9580 non-null   object \n",
      " 14  tag_names        9657 non-null   object \n",
      " 15  synopsis         9463 non-null   object \n",
      " 16  url              9657 non-null   object \n",
      " 17  Unnamed: 17      0 non-null      float64\n",
      " 18  Unnamed: 18      0 non-null      float64\n",
      " 19  Unnamed: 19      0 non-null      float64\n",
      " 20  Unnamed: 20      0 non-null      float64\n",
      " 21  Unnamed: 21      0 non-null      float64\n",
      " 22  Unnamed: 22      0 non-null      float64\n",
      "dtypes: float64(7), object(16)\n",
      "memory usage: 1.7+ MB\n"
     ]
    }
   ],
   "source": [
    "df.info()"
   ]
  },
  {
   "cell_type": "code",
   "execution_count": 5,
   "metadata": {
    "editable": false,
    "execution": {
     "iopub.execute_input": "2022-11-22T03:09:39.062866Z",
     "iopub.status.busy": "2022-11-22T03:09:39.061869Z",
     "iopub.status.idle": "2022-11-22T03:09:39.073484Z",
     "shell.execute_reply": "2022-11-22T03:09:39.072204Z",
     "shell.execute_reply.started": "2022-11-22T03:09:39.062818Z"
    }
   },
   "outputs": [
    {
     "data": {
      "text/plain": [
       "0       8.7\n",
       "1       8.8\n",
       "2       8.3\n",
       "3       8.7\n",
       "4       9.2\n",
       "       ... \n",
       "9652    7.9\n",
       "9653    7.9\n",
       "9654    7.9\n",
       "9655    7.9\n",
       "9656    7.9\n",
       "Name: rating, Length: 9657, dtype: object"
      ]
     },
     "execution_count": 5,
     "metadata": {},
     "output_type": "execute_result"
    }
   ],
   "source": [
    "df['rating']"
   ]
  },
  {
   "cell_type": "code",
   "execution_count": 6,
   "metadata": {
    "editable": false,
    "execution": {
     "iopub.execute_input": "2022-11-22T03:09:39.077211Z",
     "iopub.status.busy": "2022-11-22T03:09:39.076766Z",
     "iopub.status.idle": "2022-11-22T03:09:39.730544Z",
     "shell.execute_reply": "2022-11-22T03:09:39.729620Z",
     "shell.execute_reply.started": "2022-11-22T03:09:39.077169Z"
    }
   },
   "outputs": [],
   "source": [
    "import numpy as np\n",
    "import pandas as pd\n",
    "import seaborn as sb\n",
    "import matplotlib.pyplot as plt\n",
    "%matplotlib inline\n",
    "\n",
    "import warnings\n",
    "warnings.filterwarnings(\"ignore\")"
   ]
  },
  {
   "cell_type": "code",
   "execution_count": 7,
   "metadata": {
    "editable": false,
    "execution": {
     "iopub.execute_input": "2022-11-22T03:09:39.732562Z",
     "iopub.status.busy": "2022-11-22T03:09:39.731667Z",
     "iopub.status.idle": "2022-11-22T03:09:40.043192Z",
     "shell.execute_reply": "2022-11-22T03:09:40.042231Z",
     "shell.execute_reply.started": "2022-11-22T03:09:39.732525Z"
    }
   },
   "outputs": [
    {
     "data": {
      "image/png": "[encoded data removed]",
      "text/plain": [
       "<Figure size 1296x720 with 1 Axes>"
      ]
     },
     "metadata": {
      "needs_background": "light"
     },
     "output_type": "display_data"
    }
   ],
   "source": [
    "plt.figure(figsize=(18,10))\n",
    "sb.barplot(x= df.country.value_counts()[:10].sort_values().index, y=df.country.value_counts()[:10].sort_values().values,palette='GnBu');\n",
    "plt.title('Most Popular Countries', color='Blue', fontsize=20)\n",
    "plt.yticks(df.country.value_counts()[:10].sort_values().values);\n",
    "plt.xlabel('COUNTRIES', fontsize=20);\n",
    "plt.ylabel('Number of contents', fontsize=22);"
   ]
  },
  {
   "cell_type": "code",
   "execution_count": 8,
   "metadata": {
    "editable": false,
    "execution": {
     "iopub.execute_input": "2022-11-22T03:09:40.045524Z",
     "iopub.status.busy": "2022-11-22T03:09:40.044800Z",
     "iopub.status.idle": "2022-11-22T03:09:40.068583Z",
     "shell.execute_reply": "2022-11-22T03:09:40.067335Z",
     "shell.execute_reply.started": "2022-11-22T03:09:40.045477Z"
    }
   },
   "outputs": [
    {
     "name": "stdout",
     "output_type": "stream",
     "text": [
      "<class 'pandas.core.frame.DataFrame'>\n",
      "RangeIndex: 9657 entries, 0 to 9656\n",
      "Data columns (total 23 columns):\n",
      " #   Column           Non-Null Count  Dtype  \n",
      "---  ------           --------------  -----  \n",
      " 0   Name             9657 non-null   object \n",
      " 1   category         9657 non-null   object \n",
      " 2   country          9657 non-null   object \n",
      " 3   num_episodes     4823 non-null   float64\n",
      " 4   aired            9657 non-null   object \n",
      " 5   orginal_network  4474 non-null   object \n",
      " 6   duration         9381 non-null   object \n",
      " 7   watchers         9657 non-null   object \n",
      " 8   director         7243 non-null   object \n",
      " 9   screenwriter     4576 non-null   object \n",
      " 10  rating           9657 non-null   object \n",
      " 11  num_raters       9657 non-null   object \n",
      " 12  cast_names       9560 non-null   object \n",
      " 13  genre_names      9580 non-null   object \n",
      " 14  tag_names        9657 non-null   object \n",
      " 15  synopsis         9463 non-null   object \n",
      " 16  url              9657 non-null   object \n",
      " 17  Unnamed: 17      0 non-null      float64\n",
      " 18  Unnamed: 18      0 non-null      float64\n",
      " 19  Unnamed: 19      0 non-null      float64\n",
      " 20  Unnamed: 20      0 non-null      float64\n",
      " 21  Unnamed: 21      0 non-null      float64\n",
      " 22  Unnamed: 22      0 non-null      float64\n",
      "dtypes: float64(7), object(16)\n",
      "memory usage: 1.7+ MB\n"
     ]
    }
   ],
   "source": [
    "df.info()"
   ]
  },
  {
   "cell_type": "code",
   "execution_count": 9,
   "metadata": {
    "editable": false,
    "execution": {
     "iopub.execute_input": "2022-11-22T03:09:40.070345Z",
     "iopub.status.busy": "2022-11-22T03:09:40.069976Z",
     "iopub.status.idle": "2022-11-22T03:09:40.113516Z",
     "shell.execute_reply": "2022-11-22T03:09:40.112599Z",
     "shell.execute_reply.started": "2022-11-22T03:09:40.070310Z"
    }
   },
   "outputs": [],
   "source": [
    "df['features'] = df['director'] + ' '  + df['genre_names'] + ' ' + df['tag_names'] + ' ' + df['synopsis'] + ' '  + df['cast_names']"
   ]
  },
  {
   "cell_type": "code",
   "execution_count": 10,
   "metadata": {
    "editable": false,
    "execution": {
     "iopub.execute_input": "2022-11-22T03:09:40.115206Z",
     "iopub.status.busy": "2022-11-22T03:09:40.114604Z",
     "iopub.status.idle": "2022-11-22T03:09:40.148407Z",
     "shell.execute_reply": "2022-11-22T03:09:40.147242Z",
     "shell.execute_reply.started": "2022-11-22T03:09:40.115171Z"
    }
   },
   "outputs": [],
   "source": [
    "df['features'] = df[['features']].stack().str.replace(',',' ').unstack()"
   ]
  },
  {
   "cell_type": "code",
   "execution_count": 11,
   "metadata": {
    "editable": false,
    "execution": {
     "iopub.execute_input": "2022-11-22T03:09:40.150138Z",
     "iopub.status.busy": "2022-11-22T03:09:40.149764Z",
     "iopub.status.idle": "2022-11-22T03:09:40.205240Z",
     "shell.execute_reply": "2022-11-22T03:09:40.204101Z",
     "shell.execute_reply.started": "2022-11-22T03:09:40.150102Z"
    }
   },
   "outputs": [],
   "source": [
    "df['features'] = df[['features']].stack().str.replace('  ',' ').unstack()"
   ]
  },
  {
   "cell_type": "code",
   "execution_count": 12,
   "metadata": {
    "editable": false,
    "execution": {
     "iopub.execute_input": "2022-11-22T03:09:40.210670Z",
     "iopub.status.busy": "2022-11-22T03:09:40.210117Z",
     "iopub.status.idle": "2022-11-22T03:09:40.218911Z",
     "shell.execute_reply": "2022-11-22T03:09:40.217588Z",
     "shell.execute_reply.started": "2022-11-22T03:09:40.210635Z"
    }
   },
   "outputs": [
    {
     "data": {
      "text/plain": [
       "0       Nam Ki Hoon  Shin Yong Hwi Thriller Mystery Sc...\n",
       "1       Jung Ji Hyun Romance Life Youth Drama  Athlete...\n",
       "2       Lee Chung Hyun Thriller Mystery Horror Sci-Fi ...\n",
       "3       Yoo In Shik  Lee Gil Bok Romance Drama Medical...\n",
       "4       Kim Sung Ho Life Drama Family  Autism Uncle-Ne...\n",
       "                              ...                        \n",
       "9652    Konaka Kazuya Action Tokusatsu Sci-Fi  Superhe...\n",
       "9653    Guo Jing Yu Action Romance Drama   This show i...\n",
       "9654    Imai Kazuhisa  Komatsu Takashi  Hoshino Kazuna...\n",
       "9655                                                  NaN\n",
       "9656    Hong Zi Peng Thriller Mystery Supernatural  Gh...\n",
       "Name: features, Length: 9657, dtype: object"
      ]
     },
     "execution_count": 12,
     "metadata": {},
     "output_type": "execute_result"
    }
   ],
   "source": [
    "df['features']"
   ]
  },
  {
   "cell_type": "code",
   "execution_count": 14,
   "metadata": {
    "editable": false,
    "execution": {
     "iopub.execute_input": "2022-11-22T03:09:54.389913Z",
     "iopub.status.busy": "2022-11-22T03:09:54.388860Z",
     "iopub.status.idle": "2022-11-22T03:09:54.419865Z",
     "shell.execute_reply": "2022-11-22T03:09:54.418379Z",
     "shell.execute_reply.started": "2022-11-22T03:09:54.389825Z"
    }
   },
   "outputs": [
    {
     "ename": "ValueError",
     "evalue": "Cannot mask with non-boolean array containing NA / NaN values",
     "output_type": "error",
     "traceback": [
      "\u001b[0;31m---------------------------------------------------------------------------\u001b[0m",
      "\u001b[0;31mValueError\u001b[0m                                Traceback (most recent call last)",
      "\u001b[0;32m/tmp/ipykernel_27/1199322027.py\u001b[0m in \u001b[0;36m<module>\u001b[0;34m\u001b[0m\n\u001b[0;32m----> 1\u001b[0;31m \u001b[0mdf\u001b[0m\u001b[0;34m[\u001b[0m\u001b[0;34m'features'\u001b[0m\u001b[0;34m]\u001b[0m\u001b[0;34m[\u001b[0m\u001b[0mdf\u001b[0m\u001b[0;34m[\u001b[0m\u001b[0;34m'features'\u001b[0m\u001b[0;34m]\u001b[0m\u001b[0;34m.\u001b[0m\u001b[0mstr\u001b[0m\u001b[0;34m.\u001b[0m\u001b[0mcontains\u001b[0m\u001b[0;34m(\u001b[0m\u001b[0;34m'Park Chan Wook'\u001b[0m\u001b[0;34m)\u001b[0m\u001b[0;34m]\u001b[0m\u001b[0;34m.\u001b[0m\u001b[0miloc\u001b[0m\u001b[0;34m[\u001b[0m\u001b[0;34m:\u001b[0m\u001b[0;36m7\u001b[0m\u001b[0;34m]\u001b[0m\u001b[0;34m\u001b[0m\u001b[0;34m\u001b[0m\u001b[0m\n\u001b[0m",
      "\u001b[0;32m/opt/conda/lib/python3.7/site-packages/pandas/core/series.py\u001b[0m in \u001b[0;36m__getitem__\u001b[0;34m(self, key)\u001b[0m\n\u001b[1;32m    959\u001b[0m             \u001b[0mkey\u001b[0m \u001b[0;34m=\u001b[0m \u001b[0mlist\u001b[0m\u001b[0;34m(\u001b[0m\u001b[0mkey\u001b[0m\u001b[0;34m)\u001b[0m\u001b[0;34m\u001b[0m\u001b[0;34m\u001b[0m\u001b[0m\n\u001b[1;32m    960\u001b[0m \u001b[0;34m\u001b[0m\u001b[0m\n\u001b[0;32m--> 961\u001b[0;31m         \u001b[0;32mif\u001b[0m \u001b[0mcom\u001b[0m\u001b[0;34m.\u001b[0m\u001b[0mis_bool_indexer\u001b[0m\u001b[0;34m(\u001b[0m\u001b[0mkey\u001b[0m\u001b[0;34m)\u001b[0m\u001b[0;34m:\u001b[0m\u001b[0;34m\u001b[0m\u001b[0;34m\u001b[0m\u001b[0m\n\u001b[0m\u001b[1;32m    962\u001b[0m             \u001b[0mkey\u001b[0m \u001b[0;34m=\u001b[0m \u001b[0mcheck_bool_indexer\u001b[0m\u001b[0;34m(\u001b[0m\u001b[0mself\u001b[0m\u001b[0;34m.\u001b[0m\u001b[0mindex\u001b[0m\u001b[0;34m,\u001b[0m \u001b[0mkey\u001b[0m\u001b[0;34m)\u001b[0m\u001b[0;34m\u001b[0m\u001b[0;34m\u001b[0m\u001b[0m\n\u001b[1;32m    963\u001b[0m             \u001b[0mkey\u001b[0m \u001b[0;34m=\u001b[0m \u001b[0mnp\u001b[0m\u001b[0;34m.\u001b[0m\u001b[0masarray\u001b[0m\u001b[0;34m(\u001b[0m\u001b[0mkey\u001b[0m\u001b[0;34m,\u001b[0m \u001b[0mdtype\u001b[0m\u001b[0;34m=\u001b[0m\u001b[0mbool\u001b[0m\u001b[0;34m)\u001b[0m\u001b[0;34m\u001b[0m\u001b[0;34m\u001b[0m\u001b[0m\n",
      "\u001b[0;32m/opt/conda/lib/python3.7/site-packages/pandas/core/common.py\u001b[0m in \u001b[0;36mis_bool_indexer\u001b[0;34m(key)\u001b[0m\n\u001b[1;32m    137\u001b[0m                     \u001b[0;31m# Don't raise on e.g. [\"A\", \"B\", np.nan], see\u001b[0m\u001b[0;34m\u001b[0m\u001b[0;34m\u001b[0m\u001b[0;34m\u001b[0m\u001b[0m\n\u001b[1;32m    138\u001b[0m                     \u001b[0;31m#  test_loc_getitem_list_of_labels_categoricalindex_with_na\u001b[0m\u001b[0;34m\u001b[0m\u001b[0;34m\u001b[0m\u001b[0;34m\u001b[0m\u001b[0m\n\u001b[0;32m--> 139\u001b[0;31m                     \u001b[0;32mraise\u001b[0m \u001b[0mValueError\u001b[0m\u001b[0;34m(\u001b[0m\u001b[0mna_msg\u001b[0m\u001b[0;34m)\u001b[0m\u001b[0;34m\u001b[0m\u001b[0;34m\u001b[0m\u001b[0m\n\u001b[0m\u001b[1;32m    140\u001b[0m                 \u001b[0;32mreturn\u001b[0m \u001b[0;32mFalse\u001b[0m\u001b[0;34m\u001b[0m\u001b[0;34m\u001b[0m\u001b[0m\n\u001b[1;32m    141\u001b[0m             \u001b[0;32mreturn\u001b[0m \u001b[0;32mTrue\u001b[0m\u001b[0;34m\u001b[0m\u001b[0;34m\u001b[0m\u001b[0m\n",
      "\u001b[0;31mValueError\u001b[0m: Cannot mask with non-boolean array containing NA / NaN values"
     ]
    }
   ],
   "source": [
    "df['features'][df['features'].str.contains('Park Chan Wook')].iloc[:7]\n"
   ]
  },
  {
   "cell_type": "code",
   "execution_count": 15,
   "metadata": {
    "editable": false,
    "execution": {
     "iopub.execute_input": "2022-11-22T03:10:08.809244Z",
     "iopub.status.busy": "2022-11-22T03:10:08.808050Z",
     "iopub.status.idle": "2022-11-22T03:10:08.817115Z",
     "shell.execute_reply": "2022-11-22T03:10:08.815823Z",
     "shell.execute_reply.started": "2022-11-22T03:10:08.809183Z"
    }
   },
   "outputs": [
    {
     "data": {
      "text/plain": [
       "'Thirst'"
      ]
     },
     "execution_count": 15,
     "metadata": {},
     "output_type": "execute_result"
    }
   ],
   "source": [
    "df['Name'].iloc[2894]"
   ]
  },
  {
   "cell_type": "code",
   "execution_count": 16,
   "metadata": {
    "editable": false,
    "execution": {
     "iopub.execute_input": "2022-11-22T03:10:10.903150Z",
     "iopub.status.busy": "2022-11-22T03:10:10.902258Z",
     "iopub.status.idle": "2022-11-22T03:10:10.979601Z",
     "shell.execute_reply": "2022-11-22T03:10:10.978449Z",
     "shell.execute_reply.started": "2022-11-22T03:10:10.903100Z"
    }
   },
   "outputs": [],
   "source": [
    "from sklearn.feature_extraction.text import TfidfVectorizer\n",
    "\n",
    "#Define a TF-IDF Vectorizer Object. Remove all english stop words such as 'the', 'a'\n",
    "tfidf = TfidfVectorizer(stop_words='english')\n"
   ]
  },
  {
   "cell_type": "code",
   "execution_count": 17,
   "metadata": {
    "editable": false,
    "execution": {
     "iopub.execute_input": "2022-11-22T03:10:13.282329Z",
     "iopub.status.busy": "2022-11-22T03:10:13.281491Z",
     "iopub.status.idle": "2022-11-22T03:10:14.185876Z",
     "shell.execute_reply": "2022-11-22T03:10:14.184722Z",
     "shell.execute_reply.started": "2022-11-22T03:10:13.282284Z"
    }
   },
   "outputs": [
    {
     "data": {
      "text/plain": [
       "(7, 433)"
      ]
     },
     "execution_count": 17,
     "metadata": {},
     "output_type": "execute_result"
    }
   ],
   "source": [
    "#Replace NaN with an empty string\n",
    "df['features'] = df['features'].fillna('')\n",
    "\n",
    "#Construct the required TF-IDF matrix by fitting and transforming the data\n",
    "tfidf_matrix = tfidf.fit_transform(df['features'])\n",
    "tfidf_matrix1 = tfidf.fit_transform(df['features'][df['features'].str.contains('Park Chan Wook')].iloc[:7])\n",
    "\n",
    "#Output the shape of tfidf_matrix\n",
    "tfidf_matrix.shape\n",
    "tfidf_matrix1.shape"
   ]
  },
  {
   "cell_type": "code",
   "execution_count": 18,
   "metadata": {
    "editable": false,
    "execution": {
     "iopub.execute_input": "2022-11-22T03:10:14.188747Z",
     "iopub.status.busy": "2022-11-22T03:10:14.188305Z",
     "iopub.status.idle": "2022-11-22T03:10:17.686963Z",
     "shell.execute_reply": "2022-11-22T03:10:17.685804Z",
     "shell.execute_reply.started": "2022-11-22T03:10:14.188702Z"
    }
   },
   "outputs": [],
   "source": [
    "# Import linear_kernel\n",
    "from sklearn.metrics.pairwise import linear_kernel\n",
    "\n",
    "# Compute the cosine similarity matrix\n",
    "cosine_sim = linear_kernel(tfidf_matrix, tfidf_matrix)\n",
    "\n",
    "cosine_sim1 = linear_kernel(tfidf_matrix1, tfidf_matrix1)"
   ]
  },
  {
   "cell_type": "code",
   "execution_count": 19,
   "metadata": {
    "editable": false,
    "execution": {
     "iopub.execute_input": "2022-11-22T03:10:17.688866Z",
     "iopub.status.busy": "2022-11-22T03:10:17.688539Z",
     "iopub.status.idle": "2022-11-22T03:10:17.695161Z",
     "shell.execute_reply": "2022-11-22T03:10:17.693928Z",
     "shell.execute_reply.started": "2022-11-22T03:10:17.688835Z"
    }
   },
   "outputs": [
    {
     "data": {
      "text/plain": [
       "(9657, 9657)"
      ]
     },
     "execution_count": 19,
     "metadata": {},
     "output_type": "execute_result"
    }
   ],
   "source": [
    "cosine_sim.shape"
   ]
  },
  {
   "cell_type": "code",
   "execution_count": 20,
   "metadata": {
    "editable": false,
    "execution": {
     "iopub.execute_input": "2022-11-22T03:10:17.698043Z",
     "iopub.status.busy": "2022-11-22T03:10:17.697524Z",
     "iopub.status.idle": "2022-11-22T03:10:17.713787Z",
     "shell.execute_reply": "2022-11-22T03:10:17.712393Z",
     "shell.execute_reply.started": "2022-11-22T03:10:17.698007Z"
    }
   },
   "outputs": [],
   "source": [
    "df1 = pd.DataFrame(cosine_sim1, columns = ['Old Boy','Joint Security Area','The Handmaiden','Sympathy For Lady Vengeance','Sympathy For Mr. Vengeance',\"I'm a Cyborg, But That's OK\",'Thirst'])\n",
    "#indices = pd.Series(df.index, index=df['Name']).drop_duplicates()\n",
    "df1 = df1.rename(index={0: 'Old Boy'})\n",
    "df1 = df1.rename(index={1: 'Joint Security Area'})\n",
    "df1 = df1.rename(index={2: 'The Handmaiden'})\n",
    "df1 = df1.rename(index={3: 'Sympathy For Lady Vengeance'})\n",
    "df1 = df1.rename(index={4: 'Sympathy For Mr. Vengeance'})\n",
    "df1 = df1.rename(index={5: \"I'm a Cyborg, But That's OK\"})\n",
    "df1 = df1.rename(index={6: 'Thirst'})"
   ]
  },
  {
   "cell_type": "code",
   "execution_count": 21,
   "metadata": {
    "editable": false,
    "execution": {
     "iopub.execute_input": "2022-11-22T03:10:17.715774Z",
     "iopub.status.busy": "2022-11-22T03:10:17.715404Z",
     "iopub.status.idle": "2022-11-22T03:10:17.741388Z",
     "shell.execute_reply": "2022-11-22T03:10:17.740073Z",
     "shell.execute_reply.started": "2022-11-22T03:10:17.715741Z"
    }
   },
   "outputs": [
    {
     "data": {
      "text/html": [
       "<div>\n",
       "<style scoped>\n",
       "    .dataframe tbody tr th:only-of-type {\n",
       "        vertical-align: middle;\n",
       "    }\n",
       "\n",
       "    .dataframe tbody tr th {\n",
       "        vertical-align: top;\n",
       "    }\n",
       "\n",
       "    .dataframe thead th {\n",
       "        text-align: right;\n",
       "    }\n",
       "</style>\n",
       "<table border=\"1\" class=\"dataframe\">\n",
       "  <thead>\n",
       "    <tr style=\"text-align: right;\">\n",
       "      <th></th>\n",
       "      <th>Old Boy</th>\n",
       "      <th>Joint Security Area</th>\n",
       "      <th>The Handmaiden</th>\n",
       "      <th>Sympathy For Lady Vengeance</th>\n",
       "      <th>Sympathy For Mr. Vengeance</th>\n",
       "      <th>I'm a Cyborg, But That's OK</th>\n",
       "      <th>Thirst</th>\n",
       "    </tr>\n",
       "  </thead>\n",
       "  <tbody>\n",
       "    <tr>\n",
       "      <th>Old Boy</th>\n",
       "      <td>1.000000</td>\n",
       "      <td>0.029745</td>\n",
       "      <td>0.076812</td>\n",
       "      <td>0.192984</td>\n",
       "      <td>0.129452</td>\n",
       "      <td>0.052273</td>\n",
       "      <td>0.062606</td>\n",
       "    </tr>\n",
       "    <tr>\n",
       "      <th>Joint Security Area</th>\n",
       "      <td>0.029745</td>\n",
       "      <td>1.000000</td>\n",
       "      <td>0.052437</td>\n",
       "      <td>0.073090</td>\n",
       "      <td>0.039855</td>\n",
       "      <td>0.020439</td>\n",
       "      <td>0.061998</td>\n",
       "    </tr>\n",
       "    <tr>\n",
       "      <th>The Handmaiden</th>\n",
       "      <td>0.076812</td>\n",
       "      <td>0.052437</td>\n",
       "      <td>1.000000</td>\n",
       "      <td>0.064958</td>\n",
       "      <td>0.030937</td>\n",
       "      <td>0.092436</td>\n",
       "      <td>0.090646</td>\n",
       "    </tr>\n",
       "    <tr>\n",
       "      <th>Sympathy For Lady Vengeance</th>\n",
       "      <td>0.192984</td>\n",
       "      <td>0.073090</td>\n",
       "      <td>0.064958</td>\n",
       "      <td>1.000000</td>\n",
       "      <td>0.125903</td>\n",
       "      <td>0.056405</td>\n",
       "      <td>0.043848</td>\n",
       "    </tr>\n",
       "    <tr>\n",
       "      <th>Sympathy For Mr. Vengeance</th>\n",
       "      <td>0.129452</td>\n",
       "      <td>0.039855</td>\n",
       "      <td>0.030937</td>\n",
       "      <td>0.125903</td>\n",
       "      <td>1.000000</td>\n",
       "      <td>0.020710</td>\n",
       "      <td>0.077221</td>\n",
       "    </tr>\n",
       "    <tr>\n",
       "      <th>I'm a Cyborg, But That's OK</th>\n",
       "      <td>0.052273</td>\n",
       "      <td>0.020439</td>\n",
       "      <td>0.092436</td>\n",
       "      <td>0.056405</td>\n",
       "      <td>0.020710</td>\n",
       "      <td>1.000000</td>\n",
       "      <td>0.056451</td>\n",
       "    </tr>\n",
       "    <tr>\n",
       "      <th>Thirst</th>\n",
       "      <td>0.062606</td>\n",
       "      <td>0.061998</td>\n",
       "      <td>0.090646</td>\n",
       "      <td>0.043848</td>\n",
       "      <td>0.077221</td>\n",
       "      <td>0.056451</td>\n",
       "      <td>1.000000</td>\n",
       "    </tr>\n",
       "  </tbody>\n",
       "</table>\n",
       "</div>"
      ],
      "text/plain": [
       "                              Old Boy  Joint Security Area  The Handmaiden  \\\n",
       "Old Boy                      1.000000             0.029745        0.076812   \n",
       "Joint Security Area          0.029745             1.000000        0.052437   \n",
       "The Handmaiden               0.076812             0.052437        1.000000   \n",
       "Sympathy For Lady Vengeance  0.192984             0.073090        0.064958   \n",
       "Sympathy For Mr. Vengeance   0.129452             0.039855        0.030937   \n",
       "I'm a Cyborg, But That's OK  0.052273             0.020439        0.092436   \n",
       "Thirst                       0.062606             0.061998        0.090646   \n",
       "\n",
       "                             Sympathy For Lady Vengeance  \\\n",
       "Old Boy                                         0.192984   \n",
       "Joint Security Area                             0.073090   \n",
       "The Handmaiden                                  0.064958   \n",
       "Sympathy For Lady Vengeance                     1.000000   \n",
       "Sympathy For Mr. Vengeance                      0.125903   \n",
       "I'm a Cyborg, But That's OK                     0.056405   \n",
       "Thirst                                          0.043848   \n",
       "\n",
       "                             Sympathy For Mr. Vengeance  \\\n",
       "Old Boy                                        0.129452   \n",
       "Joint Security Area                            0.039855   \n",
       "The Handmaiden                                 0.030937   \n",
       "Sympathy For Lady Vengeance                    0.125903   \n",
       "Sympathy For Mr. Vengeance                     1.000000   \n",
       "I'm a Cyborg, But That's OK                    0.020710   \n",
       "Thirst                                         0.077221   \n",
       "\n",
       "                             I'm a Cyborg, But That's OK    Thirst  \n",
       "Old Boy                                         0.052273  0.062606  \n",
       "Joint Security Area                             0.020439  0.061998  \n",
       "The Handmaiden                                  0.092436  0.090646  \n",
       "Sympathy For Lady Vengeance                     0.056405  0.043848  \n",
       "Sympathy For Mr. Vengeance                      0.020710  0.077221  \n",
       "I'm a Cyborg, But That's OK                     1.000000  0.056451  \n",
       "Thirst                                          0.056451  1.000000  "
      ]
     },
     "execution_count": 21,
     "metadata": {},
     "output_type": "execute_result"
    }
   ],
   "source": [
    "df1"
   ]
  },
  {
   "cell_type": "code",
   "execution_count": 27,
   "metadata": {
    "editable": false,
    "execution": {
     "iopub.execute_input": "2022-11-22T03:10:44.711490Z",
     "iopub.status.busy": "2022-11-22T03:10:44.711104Z",
     "iopub.status.idle": "2022-11-22T03:10:44.718418Z",
     "shell.execute_reply": "2022-11-22T03:10:44.717219Z",
     "shell.execute_reply.started": "2022-11-22T03:10:44.711457Z"
    }
   },
   "outputs": [],
   "source": [
    "#Construct a reverse map of indices and movie titles\n",
    "indices = pd.Series(df.index, index=df['Name']).drop_duplicates()"
   ]
  },
  {
   "cell_type": "code",
   "execution_count": 34,
   "metadata": {
    "editable": false,
    "execution": {
     "iopub.execute_input": "2022-11-22T03:11:25.942244Z",
     "iopub.status.busy": "2022-11-22T03:11:25.941824Z",
     "iopub.status.idle": "2022-11-22T03:11:25.950466Z",
     "shell.execute_reply": "2022-11-22T03:11:25.949284Z",
     "shell.execute_reply.started": "2022-11-22T03:11:25.942206Z"
    }
   },
   "outputs": [],
   "source": [
    "def get_recommendations(title, cosine_sim=cosine_sim):\n",
    "    idx = indices[title]\n",
    "\n",
    "    # Get the pairwsie similarity scores of all movies with that movie\n",
    "    sim_scores = list(enumerate(cosine_sim[idx]))\n",
    "\n",
    "    # Sort the movies based on the similarity scores\n",
    "    sim_scores = sorted(sim_scores, key=lambda x: x[1], reverse=True)\n",
    "\n",
    "    # Get the scores of the 10 most similar movies\n",
    "    sim_scores = sim_scores[0:11]\n",
    "    #print (sim_scores)\n",
    "\n",
    "    # Get the movie indices\n",
    "    movie_indices = [i[0] for i in sim_scores]\n",
    "    scores = [i[1] for i in sim_scores]\n",
    "    #print (scores)\n",
    "\n",
    "    # Return the top 10 most similar movies\n",
    "    final_df = df[['Name','rating','num_raters','genre_names','director']].iloc[movie_indices]\n",
    "    final_df['Score'] = np.array(scores) \n",
    "    return final_df"
   ]
  },
  {
   "cell_type": "code",
   "execution_count": 35,
   "metadata": {
    "editable": false,
    "execution": {
     "iopub.execute_input": "2022-11-22T03:11:26.088304Z",
     "iopub.status.busy": "2022-11-22T03:11:26.087170Z",
     "iopub.status.idle": "2022-11-22T03:11:26.116035Z",
     "shell.execute_reply": "2022-11-22T03:11:26.115238Z",
     "shell.execute_reply.started": "2022-11-22T03:11:26.088255Z"
    }
   },
   "outputs": [
    {
     "data": {
      "text/html": [
       "<div>\n",
       "<style scoped>\n",
       "    .dataframe tbody tr th:only-of-type {\n",
       "        vertical-align: middle;\n",
       "    }\n",
       "\n",
       "    .dataframe tbody tr th {\n",
       "        vertical-align: top;\n",
       "    }\n",
       "\n",
       "    .dataframe thead th {\n",
       "        text-align: right;\n",
       "    }\n",
       "</style>\n",
       "<table border=\"1\" class=\"dataframe\">\n",
       "  <thead>\n",
       "    <tr style=\"text-align: right;\">\n",
       "      <th></th>\n",
       "      <th>Name</th>\n",
       "      <th>rating</th>\n",
       "      <th>num_raters</th>\n",
       "      <th>genre_names</th>\n",
       "      <th>director</th>\n",
       "      <th>Score</th>\n",
       "    </tr>\n",
       "  </thead>\n",
       "  <tbody>\n",
       "    <tr>\n",
       "      <th>124</th>\n",
       "      <td>Parasite</td>\n",
       "      <td>9</td>\n",
       "      <td>48,681</td>\n",
       "      <td>Thriller,Comedy,Drama</td>\n",
       "      <td>Bong Joon Ho</td>\n",
       "      <td>1.000000</td>\n",
       "    </tr>\n",
       "    <tr>\n",
       "      <th>1803</th>\n",
       "      <td>Smile, You</td>\n",
       "      <td>7.9</td>\n",
       "      <td>3,928</td>\n",
       "      <td>Comedy,Romance,Family</td>\n",
       "      <td>Lee Tae Gon</td>\n",
       "      <td>0.267188</td>\n",
       "    </tr>\n",
       "    <tr>\n",
       "      <th>4365</th>\n",
       "      <td>The Heirs</td>\n",
       "      <td>7.6</td>\n",
       "      <td>63,120</td>\n",
       "      <td>Comedy,Romance,Youth,Drama</td>\n",
       "      <td>Kang Shin Hyo,  Boo Sung Chul</td>\n",
       "      <td>0.241643</td>\n",
       "    </tr>\n",
       "    <tr>\n",
       "      <th>3781</th>\n",
       "      <td>Heard it Through the Grapevine</td>\n",
       "      <td>7.6</td>\n",
       "      <td>1,807</td>\n",
       "      <td>Comedy,Romance,Family,Melodrama</td>\n",
       "      <td>Ahn Pan Seok</td>\n",
       "      <td>0.218537</td>\n",
       "    </tr>\n",
       "    <tr>\n",
       "      <th>2772</th>\n",
       "      <td>Young Lady and Gentleman</td>\n",
       "      <td>7.8</td>\n",
       "      <td>1,225</td>\n",
       "      <td>Comedy,Romance,Drama,Family</td>\n",
       "      <td>Shin Chang Seok</td>\n",
       "      <td>0.201877</td>\n",
       "    </tr>\n",
       "    <tr>\n",
       "      <th>405</th>\n",
       "      <td>My Roommate Is a Gumiho</td>\n",
       "      <td>8.4</td>\n",
       "      <td>21,237</td>\n",
       "      <td>Comedy,Romance,Fantasy</td>\n",
       "      <td>Nam Sung Woo</td>\n",
       "      <td>0.196447</td>\n",
       "    </tr>\n",
       "    <tr>\n",
       "      <th>3378</th>\n",
       "      <td>Homemade Love Story</td>\n",
       "      <td>7.7</td>\n",
       "      <td>675</td>\n",
       "      <td>Comedy,Romance,Drama,Family</td>\n",
       "      <td>Hong Seok Goo</td>\n",
       "      <td>0.193716</td>\n",
       "    </tr>\n",
       "    <tr>\n",
       "      <th>2049</th>\n",
       "      <td>Family</td>\n",
       "      <td>7.9</td>\n",
       "      <td>384</td>\n",
       "      <td>Comedy,Romance,Family,Sitcom</td>\n",
       "      <td>Choi Sung Bum</td>\n",
       "      <td>0.191558</td>\n",
       "    </tr>\n",
       "    <tr>\n",
       "      <th>5587</th>\n",
       "      <td>Lovers in Paris</td>\n",
       "      <td>7.3</td>\n",
       "      <td>1,631</td>\n",
       "      <td>Romance</td>\n",
       "      <td>Shin Woo Cheol</td>\n",
       "      <td>0.183177</td>\n",
       "    </tr>\n",
       "    <tr>\n",
       "      <th>4590</th>\n",
       "      <td>Home</td>\n",
       "      <td>8</td>\n",
       "      <td>6</td>\n",
       "      <td>Drama,Family</td>\n",
       "      <td>Kim Jong Woo</td>\n",
       "      <td>0.182222</td>\n",
       "    </tr>\n",
       "    <tr>\n",
       "      <th>1691</th>\n",
       "      <td>Seo Yeong, My Daughter</td>\n",
       "      <td>7.9</td>\n",
       "      <td>1,711</td>\n",
       "      <td>Comedy,Romance,Family,Melodrama</td>\n",
       "      <td>Yoo Hyun Ki</td>\n",
       "      <td>0.179852</td>\n",
       "    </tr>\n",
       "  </tbody>\n",
       "</table>\n",
       "</div>"
      ],
      "text/plain": [
       "                                Name rating num_raters  \\\n",
       "124                         Parasite      9     48,681   \n",
       "1803                      Smile, You    7.9      3,928   \n",
       "4365                       The Heirs    7.6     63,120   \n",
       "3781  Heard it Through the Grapevine    7.6      1,807   \n",
       "2772        Young Lady and Gentleman    7.8      1,225   \n",
       "405          My Roommate Is a Gumiho    8.4     21,237   \n",
       "3378             Homemade Love Story    7.7        675   \n",
       "2049                          Family    7.9        384   \n",
       "5587                 Lovers in Paris    7.3      1,631   \n",
       "4590                            Home      8          6   \n",
       "1691          Seo Yeong, My Daughter    7.9      1,711   \n",
       "\n",
       "                           genre_names                       director  \\\n",
       "124             Thriller,Comedy,Drama                    Bong Joon Ho   \n",
       "1803            Comedy,Romance,Family                     Lee Tae Gon   \n",
       "4365       Comedy,Romance,Youth,Drama   Kang Shin Hyo,  Boo Sung Chul   \n",
       "3781  Comedy,Romance,Family,Melodrama                    Ahn Pan Seok   \n",
       "2772      Comedy,Romance,Drama,Family                 Shin Chang Seok   \n",
       "405            Comedy,Romance,Fantasy                    Nam Sung Woo   \n",
       "3378      Comedy,Romance,Drama,Family                   Hong Seok Goo   \n",
       "2049     Comedy,Romance,Family,Sitcom                   Choi Sung Bum   \n",
       "5587                          Romance                  Shin Woo Cheol   \n",
       "4590                     Drama,Family                    Kim Jong Woo   \n",
       "1691  Comedy,Romance,Family,Melodrama                     Yoo Hyun Ki   \n",
       "\n",
       "         Score  \n",
       "124   1.000000  \n",
       "1803  0.267188  \n",
       "4365  0.241643  \n",
       "3781  0.218537  \n",
       "2772  0.201877  \n",
       "405   0.196447  \n",
       "3378  0.193716  \n",
       "2049  0.191558  \n",
       "5587  0.183177  \n",
       "4590  0.182222  \n",
       "1691  0.179852  "
      ]
     },
     "execution_count": 35,
     "metadata": {},
     "output_type": "execute_result"
    }
   ],
   "source": [
    "get_recommendations('Parasite')"
   ]
  },
  {
   "cell_type": "code",
   "execution_count": null,
   "metadata": {
    "editable": false
   },
   "outputs": [],
   "source": []
  }
 ],
 "metadata": {
  "kernelspec": {
   "display_name": "Python 3",
   "language": "python",
   "name": "python3"
  },
  "language_info": {
   "codemirror_mode": {
    "name": "ipython",
    "version": 3
   },
   "file_extension": ".py",
   "mimetype": "text/x-python",
   "name": "python",
   "nbconvert_exporter": "python",
   "pygments_lexer": "ipython3",
   "version": "3.7.12"
  }
 },
 "nbformat": 4,
 "nbformat_minor": 4
}
